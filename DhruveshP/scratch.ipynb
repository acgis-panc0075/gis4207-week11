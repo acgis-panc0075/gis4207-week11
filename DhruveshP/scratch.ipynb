{
 "cells": [
  {
   "cell_type": "code",
   "execution_count": 2,
   "metadata": {},
   "outputs": [
    {
     "name": "stdout",
     "output_type": "stream",
     "text": [
      "Usage: geom_obj01.py in_txt out_shp\n"
     ]
    }
   ],
   "source": [
    "import arcpy\n",
    "import sys\n",
    "import os\n",
    "import time\n",
    "\n",
    "def create_polyline_feature_class(input_file, output_shp):\n",
    "    arcpy.env.overwriteOutput = True\n",
    "\n",
    "    arcpy.management.CreateFeatureclass(os.path.dirname(output_shp), os.path.basename(output_shp), \"POLYLINE\", spatial_reference=arcpy.SpatialReference(4326))\n",
    "\n",
    "    with open(input_file, 'r') as file:\n",
    "        start_time = time.perf_counter()\n",
    "\n",
    "        with arcpy.da.InsertCursor(output_shp, [\"SHAPE@\"]) as cursor:\n",
    "            array = arcpy.Array()\n",
    "            for line in file:\n",
    "                line = line.strip()\n",
    "                parts = line.split()\n",
    "\n",
    "                if parts and parts[0].isdigit():\n",
    "                    if array:\n",
    "                        cursor.insertRow([arcpy.Polyline(array)])\n",
    "                        array.removeAll()\n",
    "\n",
    "                else:\n",
    "                    point = arcpy.Point(float(parts[0]), float(parts[1]))\n",
    "                    array.add(point)\n",
    "\n",
    "            if array:\n",
    "                cursor.insertRow([arcpy.Polyline(array)])\n",
    "\n",
    "        end_time = time.perf_counter()\n",
    "        elapsed_time = end_time - start_time\n",
    "        print(f\"Process completed in {elapsed_time:.2f} seconds.\")\n",
    "\n",
    "if __name__ == \"__main__\":\n",
    "    if len(sys.argv) != 3:\n",
    "        print(\"Usage: geom_obj01.py in_txt out_shp\")\n",
    "    else:\n",
    "        input_file = sys.argv[1]\n",
    "        output_shp = sys.argv[2]\n",
    "        create_polyline_feature_class(input_file, output_shp)\n"
   ]
  }
 ],
 "metadata": {
  "kernelspec": {
   "display_name": "gis4207",
   "language": "python",
   "name": "python3"
  },
  "language_info": {
   "codemirror_mode": {
    "name": "ipython",
    "version": 3
   },
   "file_extension": ".py",
   "mimetype": "text/x-python",
   "name": "python",
   "nbconvert_exporter": "python",
   "pygments_lexer": "ipython3",
   "version": "3.9.18"
  }
 },
 "nbformat": 4,
 "nbformat_minor": 2
}
